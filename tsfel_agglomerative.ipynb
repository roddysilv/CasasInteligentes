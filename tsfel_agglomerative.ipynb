{
 "cells": [
  {
   "cell_type": "code",
   "execution_count": 68,
   "id": "confidential-portfolio",
   "metadata": {},
   "outputs": [],
   "source": [
    "import pandas as pd\n",
    "import numpy as np\n",
    "import tsfel\n",
    "import matplotlib.pyplot as plt\n",
    "import seaborn as sns; sns.set()\n",
    "from glob import glob\n",
    "from sklearn.decomposition import PCA\n",
    "from tsfresh import extract_features\n",
    "import datetime\n",
    "import matplotlib.pyplot as plt\n",
    "from sklearn.cluster import AgglomerativeClustering\n",
    "import scipy.cluster.hierarchy as sch"
   ]
  },
  {
   "cell_type": "code",
   "execution_count": 69,
   "id": "partial-marina",
   "metadata": {},
   "outputs": [
    {
     "name": "stdout",
     "output_type": "stream",
     "text": [
      "*** Feature extraction started ***\n",
      "60\n"
     ]
    },
    {
     "name": "stderr",
     "output_type": "stream",
     "text": [
      "<ipython-input-69-133d853d7271>:11: UserWarning: Using default sampling frequency set in configuration file.\n",
      "  X = tsfel.time_series_features_extractor(cfg, df)\n"
     ]
    },
    {
     "data": {
      "text/html": [
       "\n",
       "              <p>\n",
       "                  Progress: 100% Complete\n",
       "              <p/>            \n",
       "              <progress\n",
       "                  value='60'\n",
       "                  max='60',\n",
       "                  style='width: 25%',\n",
       "              >\n",
       "                  60\n",
       "              </progress>\n",
       "\n",
       "    "
      ],
      "text/plain": [
       "<IPython.core.display.HTML object>"
      ]
     },
     "metadata": {},
     "output_type": "display_data"
    },
    {
     "name": "stdout",
     "output_type": "stream",
     "text": [
      "\n",
      "*** Feature extraction finished ***\n",
      "*** Feature extraction started ***\n",
      "60\n"
     ]
    },
    {
     "name": "stderr",
     "output_type": "stream",
     "text": [
      "<ipython-input-69-133d853d7271>:11: UserWarning: Using default sampling frequency set in configuration file.\n",
      "  X = tsfel.time_series_features_extractor(cfg, df)\n"
     ]
    },
    {
     "data": {
      "text/html": [
       "\n",
       "              <p>\n",
       "                  Progress: 100% Complete\n",
       "              <p/>            \n",
       "              <progress\n",
       "                  value='60'\n",
       "                  max='60',\n",
       "                  style='width: 25%',\n",
       "              >\n",
       "                  60\n",
       "              </progress>\n",
       "\n",
       "    "
      ],
      "text/plain": [
       "<IPython.core.display.HTML object>"
      ]
     },
     "metadata": {},
     "output_type": "display_data"
    },
    {
     "name": "stdout",
     "output_type": "stream",
     "text": [
      "\n",
      "*** Feature extraction finished ***\n",
      "*** Feature extraction started ***\n",
      "60\n"
     ]
    },
    {
     "name": "stderr",
     "output_type": "stream",
     "text": [
      "<ipython-input-69-133d853d7271>:11: UserWarning: Using default sampling frequency set in configuration file.\n",
      "  X = tsfel.time_series_features_extractor(cfg, df)\n"
     ]
    },
    {
     "data": {
      "text/html": [
       "\n",
       "              <p>\n",
       "                  Progress: 100% Complete\n",
       "              <p/>            \n",
       "              <progress\n",
       "                  value='60'\n",
       "                  max='60',\n",
       "                  style='width: 25%',\n",
       "              >\n",
       "                  60\n",
       "              </progress>\n",
       "\n",
       "    "
      ],
      "text/plain": [
       "<IPython.core.display.HTML object>"
      ]
     },
     "metadata": {},
     "output_type": "display_data"
    },
    {
     "name": "stdout",
     "output_type": "stream",
     "text": [
      "\n",
      "*** Feature extraction finished ***\n",
      "*** Feature extraction started ***\n",
      "60\n"
     ]
    },
    {
     "name": "stderr",
     "output_type": "stream",
     "text": [
      "<ipython-input-69-133d853d7271>:11: UserWarning: Using default sampling frequency set in configuration file.\n",
      "  X = tsfel.time_series_features_extractor(cfg, df)\n"
     ]
    },
    {
     "data": {
      "text/html": [
       "\n",
       "              <p>\n",
       "                  Progress: 100% Complete\n",
       "              <p/>            \n",
       "              <progress\n",
       "                  value='60'\n",
       "                  max='60',\n",
       "                  style='width: 25%',\n",
       "              >\n",
       "                  60\n",
       "              </progress>\n",
       "\n",
       "    "
      ],
      "text/plain": [
       "<IPython.core.display.HTML object>"
      ]
     },
     "metadata": {},
     "output_type": "display_data"
    },
    {
     "name": "stdout",
     "output_type": "stream",
     "text": [
      "\n",
      "*** Feature extraction finished ***\n",
      "*** Feature extraction started ***\n",
      "60\n"
     ]
    },
    {
     "name": "stderr",
     "output_type": "stream",
     "text": [
      "<ipython-input-69-133d853d7271>:11: UserWarning: Using default sampling frequency set in configuration file.\n",
      "  X = tsfel.time_series_features_extractor(cfg, df)\n"
     ]
    },
    {
     "data": {
      "text/html": [
       "\n",
       "              <p>\n",
       "                  Progress: 100% Complete\n",
       "              <p/>            \n",
       "              <progress\n",
       "                  value='60'\n",
       "                  max='60',\n",
       "                  style='width: 25%',\n",
       "              >\n",
       "                  60\n",
       "              </progress>\n",
       "\n",
       "    "
      ],
      "text/plain": [
       "<IPython.core.display.HTML object>"
      ]
     },
     "metadata": {},
     "output_type": "display_data"
    },
    {
     "name": "stdout",
     "output_type": "stream",
     "text": [
      "\n",
      "*** Feature extraction finished ***\n",
      "*** Feature extraction started ***\n",
      "60\n"
     ]
    },
    {
     "name": "stderr",
     "output_type": "stream",
     "text": [
      "<ipython-input-69-133d853d7271>:11: UserWarning: Using default sampling frequency set in configuration file.\n",
      "  X = tsfel.time_series_features_extractor(cfg, df)\n"
     ]
    },
    {
     "data": {
      "text/html": [
       "\n",
       "              <p>\n",
       "                  Progress: 100% Complete\n",
       "              <p/>            \n",
       "              <progress\n",
       "                  value='60'\n",
       "                  max='60',\n",
       "                  style='width: 25%',\n",
       "              >\n",
       "                  60\n",
       "              </progress>\n",
       "\n",
       "    "
      ],
      "text/plain": [
       "<IPython.core.display.HTML object>"
      ]
     },
     "metadata": {},
     "output_type": "display_data"
    },
    {
     "name": "stdout",
     "output_type": "stream",
     "text": [
      "\n",
      "*** Feature extraction finished ***\n",
      "*** Feature extraction started ***\n",
      "60\n"
     ]
    },
    {
     "name": "stderr",
     "output_type": "stream",
     "text": [
      "<ipython-input-69-133d853d7271>:11: UserWarning: Using default sampling frequency set in configuration file.\n",
      "  X = tsfel.time_series_features_extractor(cfg, df)\n"
     ]
    },
    {
     "data": {
      "text/html": [
       "\n",
       "              <p>\n",
       "                  Progress: 100% Complete\n",
       "              <p/>            \n",
       "              <progress\n",
       "                  value='60'\n",
       "                  max='60',\n",
       "                  style='width: 25%',\n",
       "              >\n",
       "                  60\n",
       "              </progress>\n",
       "\n",
       "    "
      ],
      "text/plain": [
       "<IPython.core.display.HTML object>"
      ]
     },
     "metadata": {},
     "output_type": "display_data"
    },
    {
     "name": "stdout",
     "output_type": "stream",
     "text": [
      "\n",
      "*** Feature extraction finished ***\n",
      "*** Feature extraction started ***\n",
      "60\n"
     ]
    },
    {
     "name": "stderr",
     "output_type": "stream",
     "text": [
      "<ipython-input-69-133d853d7271>:11: UserWarning: Using default sampling frequency set in configuration file.\n",
      "  X = tsfel.time_series_features_extractor(cfg, df)\n"
     ]
    },
    {
     "data": {
      "text/html": [
       "\n",
       "              <p>\n",
       "                  Progress: 100% Complete\n",
       "              <p/>            \n",
       "              <progress\n",
       "                  value='60'\n",
       "                  max='60',\n",
       "                  style='width: 25%',\n",
       "              >\n",
       "                  60\n",
       "              </progress>\n",
       "\n",
       "    "
      ],
      "text/plain": [
       "<IPython.core.display.HTML object>"
      ]
     },
     "metadata": {},
     "output_type": "display_data"
    },
    {
     "name": "stdout",
     "output_type": "stream",
     "text": [
      "\n",
      "*** Feature extraction finished ***\n",
      "*** Feature extraction started ***\n",
      "60\n"
     ]
    },
    {
     "name": "stderr",
     "output_type": "stream",
     "text": [
      "<ipython-input-69-133d853d7271>:11: UserWarning: Using default sampling frequency set in configuration file.\n",
      "  X = tsfel.time_series_features_extractor(cfg, df)\n"
     ]
    },
    {
     "data": {
      "text/html": [
       "\n",
       "              <p>\n",
       "                  Progress: 100% Complete\n",
       "              <p/>            \n",
       "              <progress\n",
       "                  value='60'\n",
       "                  max='60',\n",
       "                  style='width: 25%',\n",
       "              >\n",
       "                  60\n",
       "              </progress>\n",
       "\n",
       "    "
      ],
      "text/plain": [
       "<IPython.core.display.HTML object>"
      ]
     },
     "metadata": {},
     "output_type": "display_data"
    },
    {
     "name": "stdout",
     "output_type": "stream",
     "text": [
      "\n",
      "*** Feature extraction finished ***\n",
      "*** Feature extraction started ***\n",
      "60\n"
     ]
    },
    {
     "name": "stderr",
     "output_type": "stream",
     "text": [
      "<ipython-input-69-133d853d7271>:11: UserWarning: Using default sampling frequency set in configuration file.\n",
      "  X = tsfel.time_series_features_extractor(cfg, df)\n"
     ]
    },
    {
     "data": {
      "text/html": [
       "\n",
       "              <p>\n",
       "                  Progress: 100% Complete\n",
       "              <p/>            \n",
       "              <progress\n",
       "                  value='60'\n",
       "                  max='60',\n",
       "                  style='width: 25%',\n",
       "              >\n",
       "                  60\n",
       "              </progress>\n",
       "\n",
       "    "
      ],
      "text/plain": [
       "<IPython.core.display.HTML object>"
      ]
     },
     "metadata": {},
     "output_type": "display_data"
    },
    {
     "name": "stdout",
     "output_type": "stream",
     "text": [
      "\n",
      "*** Feature extraction finished ***\n",
      "*** Feature extraction started ***\n",
      "60\n"
     ]
    },
    {
     "name": "stderr",
     "output_type": "stream",
     "text": [
      "<ipython-input-69-133d853d7271>:11: UserWarning: Using default sampling frequency set in configuration file.\n",
      "  X = tsfel.time_series_features_extractor(cfg, df)\n"
     ]
    },
    {
     "data": {
      "text/html": [
       "\n",
       "              <p>\n",
       "                  Progress: 100% Complete\n",
       "              <p/>            \n",
       "              <progress\n",
       "                  value='60'\n",
       "                  max='60',\n",
       "                  style='width: 25%',\n",
       "              >\n",
       "                  60\n",
       "              </progress>\n",
       "\n",
       "    "
      ],
      "text/plain": [
       "<IPython.core.display.HTML object>"
      ]
     },
     "metadata": {},
     "output_type": "display_data"
    },
    {
     "name": "stdout",
     "output_type": "stream",
     "text": [
      "\n",
      "*** Feature extraction finished ***\n",
      "*** Feature extraction started ***\n",
      "60\n"
     ]
    },
    {
     "name": "stderr",
     "output_type": "stream",
     "text": [
      "<ipython-input-69-133d853d7271>:11: UserWarning: Using default sampling frequency set in configuration file.\n",
      "  X = tsfel.time_series_features_extractor(cfg, df)\n"
     ]
    },
    {
     "data": {
      "text/html": [
       "\n",
       "              <p>\n",
       "                  Progress: 100% Complete\n",
       "              <p/>            \n",
       "              <progress\n",
       "                  value='60'\n",
       "                  max='60',\n",
       "                  style='width: 25%',\n",
       "              >\n",
       "                  60\n",
       "              </progress>\n",
       "\n",
       "    "
      ],
      "text/plain": [
       "<IPython.core.display.HTML object>"
      ]
     },
     "metadata": {},
     "output_type": "display_data"
    },
    {
     "name": "stdout",
     "output_type": "stream",
     "text": [
      "\n",
      "*** Feature extraction finished ***\n",
      "*** Feature extraction started ***\n",
      "60\n"
     ]
    },
    {
     "name": "stderr",
     "output_type": "stream",
     "text": [
      "<ipython-input-69-133d853d7271>:11: UserWarning: Using default sampling frequency set in configuration file.\n",
      "  X = tsfel.time_series_features_extractor(cfg, df)\n"
     ]
    },
    {
     "data": {
      "text/html": [
       "\n",
       "              <p>\n",
       "                  Progress: 100% Complete\n",
       "              <p/>            \n",
       "              <progress\n",
       "                  value='60'\n",
       "                  max='60',\n",
       "                  style='width: 25%',\n",
       "              >\n",
       "                  60\n",
       "              </progress>\n",
       "\n",
       "    "
      ],
      "text/plain": [
       "<IPython.core.display.HTML object>"
      ]
     },
     "metadata": {},
     "output_type": "display_data"
    },
    {
     "name": "stdout",
     "output_type": "stream",
     "text": [
      "\n",
      "*** Feature extraction finished ***\n",
      "*** Feature extraction started ***\n",
      "60\n"
     ]
    },
    {
     "name": "stderr",
     "output_type": "stream",
     "text": [
      "<ipython-input-69-133d853d7271>:11: UserWarning: Using default sampling frequency set in configuration file.\n",
      "  X = tsfel.time_series_features_extractor(cfg, df)\n"
     ]
    },
    {
     "data": {
      "text/html": [
       "\n",
       "              <p>\n",
       "                  Progress: 100% Complete\n",
       "              <p/>            \n",
       "              <progress\n",
       "                  value='60'\n",
       "                  max='60',\n",
       "                  style='width: 25%',\n",
       "              >\n",
       "                  60\n",
       "              </progress>\n",
       "\n",
       "    "
      ],
      "text/plain": [
       "<IPython.core.display.HTML object>"
      ]
     },
     "metadata": {},
     "output_type": "display_data"
    },
    {
     "name": "stdout",
     "output_type": "stream",
     "text": [
      "\n",
      "*** Feature extraction finished ***\n",
      "*** Feature extraction started ***\n",
      "60\n"
     ]
    },
    {
     "name": "stderr",
     "output_type": "stream",
     "text": [
      "<ipython-input-69-133d853d7271>:11: UserWarning: Using default sampling frequency set in configuration file.\n",
      "  X = tsfel.time_series_features_extractor(cfg, df)\n"
     ]
    },
    {
     "data": {
      "text/html": [
       "\n",
       "              <p>\n",
       "                  Progress: 100% Complete\n",
       "              <p/>            \n",
       "              <progress\n",
       "                  value='60'\n",
       "                  max='60',\n",
       "                  style='width: 25%',\n",
       "              >\n",
       "                  60\n",
       "              </progress>\n",
       "\n",
       "    "
      ],
      "text/plain": [
       "<IPython.core.display.HTML object>"
      ]
     },
     "metadata": {},
     "output_type": "display_data"
    },
    {
     "name": "stdout",
     "output_type": "stream",
     "text": [
      "\n",
      "*** Feature extraction finished ***\n",
      "*** Feature extraction started ***\n",
      "60\n"
     ]
    },
    {
     "name": "stderr",
     "output_type": "stream",
     "text": [
      "<ipython-input-69-133d853d7271>:11: UserWarning: Using default sampling frequency set in configuration file.\n",
      "  X = tsfel.time_series_features_extractor(cfg, df)\n"
     ]
    },
    {
     "data": {
      "text/html": [
       "\n",
       "              <p>\n",
       "                  Progress: 100% Complete\n",
       "              <p/>            \n",
       "              <progress\n",
       "                  value='60'\n",
       "                  max='60',\n",
       "                  style='width: 25%',\n",
       "              >\n",
       "                  60\n",
       "              </progress>\n",
       "\n",
       "    "
      ],
      "text/plain": [
       "<IPython.core.display.HTML object>"
      ]
     },
     "metadata": {},
     "output_type": "display_data"
    },
    {
     "name": "stdout",
     "output_type": "stream",
     "text": [
      "\n",
      "*** Feature extraction finished ***\n",
      "*** Feature extraction started ***\n",
      "60\n"
     ]
    },
    {
     "name": "stderr",
     "output_type": "stream",
     "text": [
      "<ipython-input-69-133d853d7271>:11: UserWarning: Using default sampling frequency set in configuration file.\n",
      "  X = tsfel.time_series_features_extractor(cfg, df)\n"
     ]
    },
    {
     "data": {
      "text/html": [
       "\n",
       "              <p>\n",
       "                  Progress: 100% Complete\n",
       "              <p/>            \n",
       "              <progress\n",
       "                  value='60'\n",
       "                  max='60',\n",
       "                  style='width: 25%',\n",
       "              >\n",
       "                  60\n",
       "              </progress>\n",
       "\n",
       "    "
      ],
      "text/plain": [
       "<IPython.core.display.HTML object>"
      ]
     },
     "metadata": {},
     "output_type": "display_data"
    },
    {
     "name": "stdout",
     "output_type": "stream",
     "text": [
      "\n",
      "*** Feature extraction finished ***\n",
      "*** Feature extraction started ***\n",
      "60\n"
     ]
    },
    {
     "name": "stderr",
     "output_type": "stream",
     "text": [
      "<ipython-input-69-133d853d7271>:11: UserWarning: Using default sampling frequency set in configuration file.\n",
      "  X = tsfel.time_series_features_extractor(cfg, df)\n"
     ]
    },
    {
     "data": {
      "text/html": [
       "\n",
       "              <p>\n",
       "                  Progress: 100% Complete\n",
       "              <p/>            \n",
       "              <progress\n",
       "                  value='60'\n",
       "                  max='60',\n",
       "                  style='width: 25%',\n",
       "              >\n",
       "                  60\n",
       "              </progress>\n",
       "\n",
       "    "
      ],
      "text/plain": [
       "<IPython.core.display.HTML object>"
      ]
     },
     "metadata": {},
     "output_type": "display_data"
    },
    {
     "name": "stdout",
     "output_type": "stream",
     "text": [
      "\n",
      "*** Feature extraction finished ***\n",
      "*** Feature extraction started ***\n",
      "60\n"
     ]
    },
    {
     "name": "stderr",
     "output_type": "stream",
     "text": [
      "<ipython-input-69-133d853d7271>:11: UserWarning: Using default sampling frequency set in configuration file.\n",
      "  X = tsfel.time_series_features_extractor(cfg, df)\n"
     ]
    },
    {
     "data": {
      "text/html": [
       "\n",
       "              <p>\n",
       "                  Progress: 100% Complete\n",
       "              <p/>            \n",
       "              <progress\n",
       "                  value='60'\n",
       "                  max='60',\n",
       "                  style='width: 25%',\n",
       "              >\n",
       "                  60\n",
       "              </progress>\n",
       "\n",
       "    "
      ],
      "text/plain": [
       "<IPython.core.display.HTML object>"
      ]
     },
     "metadata": {},
     "output_type": "display_data"
    },
    {
     "name": "stdout",
     "output_type": "stream",
     "text": [
      "\n",
      "*** Feature extraction finished ***\n",
      "*** Feature extraction started ***\n",
      "60\n"
     ]
    },
    {
     "name": "stderr",
     "output_type": "stream",
     "text": [
      "<ipython-input-69-133d853d7271>:11: UserWarning: Using default sampling frequency set in configuration file.\n",
      "  X = tsfel.time_series_features_extractor(cfg, df)\n"
     ]
    },
    {
     "data": {
      "text/html": [
       "\n",
       "              <p>\n",
       "                  Progress: 100% Complete\n",
       "              <p/>            \n",
       "              <progress\n",
       "                  value='60'\n",
       "                  max='60',\n",
       "                  style='width: 25%',\n",
       "              >\n",
       "                  60\n",
       "              </progress>\n",
       "\n",
       "    "
      ],
      "text/plain": [
       "<IPython.core.display.HTML object>"
      ]
     },
     "metadata": {},
     "output_type": "display_data"
    },
    {
     "name": "stdout",
     "output_type": "stream",
     "text": [
      "\n",
      "*** Feature extraction finished ***\n",
      "*** Feature extraction started ***\n",
      "60\n"
     ]
    },
    {
     "name": "stderr",
     "output_type": "stream",
     "text": [
      "<ipython-input-69-133d853d7271>:11: UserWarning: Using default sampling frequency set in configuration file.\n",
      "  X = tsfel.time_series_features_extractor(cfg, df)\n"
     ]
    },
    {
     "data": {
      "text/html": [
       "\n",
       "              <p>\n",
       "                  Progress: 100% Complete\n",
       "              <p/>            \n",
       "              <progress\n",
       "                  value='60'\n",
       "                  max='60',\n",
       "                  style='width: 25%',\n",
       "              >\n",
       "                  60\n",
       "              </progress>\n",
       "\n",
       "    "
      ],
      "text/plain": [
       "<IPython.core.display.HTML object>"
      ]
     },
     "metadata": {},
     "output_type": "display_data"
    },
    {
     "name": "stdout",
     "output_type": "stream",
     "text": [
      "\n",
      "*** Feature extraction finished ***\n",
      "*** Feature extraction started ***\n",
      "60\n"
     ]
    },
    {
     "name": "stderr",
     "output_type": "stream",
     "text": [
      "<ipython-input-69-133d853d7271>:11: UserWarning: Using default sampling frequency set in configuration file.\n",
      "  X = tsfel.time_series_features_extractor(cfg, df)\n"
     ]
    },
    {
     "data": {
      "text/html": [
       "\n",
       "              <p>\n",
       "                  Progress: 100% Complete\n",
       "              <p/>            \n",
       "              <progress\n",
       "                  value='60'\n",
       "                  max='60',\n",
       "                  style='width: 25%',\n",
       "              >\n",
       "                  60\n",
       "              </progress>\n",
       "\n",
       "    "
      ],
      "text/plain": [
       "<IPython.core.display.HTML object>"
      ]
     },
     "metadata": {},
     "output_type": "display_data"
    },
    {
     "name": "stdout",
     "output_type": "stream",
     "text": [
      "\n",
      "*** Feature extraction finished ***\n",
      "*** Feature extraction started ***\n",
      "60\n"
     ]
    },
    {
     "name": "stderr",
     "output_type": "stream",
     "text": [
      "<ipython-input-69-133d853d7271>:11: UserWarning: Using default sampling frequency set in configuration file.\n",
      "  X = tsfel.time_series_features_extractor(cfg, df)\n"
     ]
    },
    {
     "data": {
      "text/html": [
       "\n",
       "              <p>\n",
       "                  Progress: 100% Complete\n",
       "              <p/>            \n",
       "              <progress\n",
       "                  value='60'\n",
       "                  max='60',\n",
       "                  style='width: 25%',\n",
       "              >\n",
       "                  60\n",
       "              </progress>\n",
       "\n",
       "    "
      ],
      "text/plain": [
       "<IPython.core.display.HTML object>"
      ]
     },
     "metadata": {},
     "output_type": "display_data"
    },
    {
     "name": "stdout",
     "output_type": "stream",
     "text": [
      "\n",
      "*** Feature extraction finished ***\n",
      "*** Feature extraction started ***\n",
      "60\n"
     ]
    },
    {
     "name": "stderr",
     "output_type": "stream",
     "text": [
      "<ipython-input-69-133d853d7271>:11: UserWarning: Using default sampling frequency set in configuration file.\n",
      "  X = tsfel.time_series_features_extractor(cfg, df)\n"
     ]
    },
    {
     "data": {
      "text/html": [
       "\n",
       "              <p>\n",
       "                  Progress: 100% Complete\n",
       "              <p/>            \n",
       "              <progress\n",
       "                  value='60'\n",
       "                  max='60',\n",
       "                  style='width: 25%',\n",
       "              >\n",
       "                  60\n",
       "              </progress>\n",
       "\n",
       "    "
      ],
      "text/plain": [
       "<IPython.core.display.HTML object>"
      ]
     },
     "metadata": {},
     "output_type": "display_data"
    },
    {
     "name": "stdout",
     "output_type": "stream",
     "text": [
      "\n",
      "*** Feature extraction finished ***\n",
      "*** Feature extraction started ***\n",
      "60\n"
     ]
    },
    {
     "name": "stderr",
     "output_type": "stream",
     "text": [
      "<ipython-input-69-133d853d7271>:11: UserWarning: Using default sampling frequency set in configuration file.\n",
      "  X = tsfel.time_series_features_extractor(cfg, df)\n"
     ]
    },
    {
     "data": {
      "text/html": [
       "\n",
       "              <p>\n",
       "                  Progress: 100% Complete\n",
       "              <p/>            \n",
       "              <progress\n",
       "                  value='60'\n",
       "                  max='60',\n",
       "                  style='width: 25%',\n",
       "              >\n",
       "                  60\n",
       "              </progress>\n",
       "\n",
       "    "
      ],
      "text/plain": [
       "<IPython.core.display.HTML object>"
      ]
     },
     "metadata": {},
     "output_type": "display_data"
    },
    {
     "name": "stdout",
     "output_type": "stream",
     "text": [
      "\n",
      "*** Feature extraction finished ***\n",
      "*** Feature extraction started ***\n",
      "60\n"
     ]
    },
    {
     "name": "stderr",
     "output_type": "stream",
     "text": [
      "<ipython-input-69-133d853d7271>:11: UserWarning: Using default sampling frequency set in configuration file.\n",
      "  X = tsfel.time_series_features_extractor(cfg, df)\n"
     ]
    },
    {
     "data": {
      "text/html": [
       "\n",
       "              <p>\n",
       "                  Progress: 100% Complete\n",
       "              <p/>            \n",
       "              <progress\n",
       "                  value='60'\n",
       "                  max='60',\n",
       "                  style='width: 25%',\n",
       "              >\n",
       "                  60\n",
       "              </progress>\n",
       "\n",
       "    "
      ],
      "text/plain": [
       "<IPython.core.display.HTML object>"
      ]
     },
     "metadata": {},
     "output_type": "display_data"
    },
    {
     "name": "stdout",
     "output_type": "stream",
     "text": [
      "\n",
      "*** Feature extraction finished ***\n",
      "*** Feature extraction started ***\n",
      "60\n"
     ]
    },
    {
     "name": "stderr",
     "output_type": "stream",
     "text": [
      "<ipython-input-69-133d853d7271>:11: UserWarning: Using default sampling frequency set in configuration file.\n",
      "  X = tsfel.time_series_features_extractor(cfg, df)\n"
     ]
    },
    {
     "data": {
      "text/html": [
       "\n",
       "              <p>\n",
       "                  Progress: 100% Complete\n",
       "              <p/>            \n",
       "              <progress\n",
       "                  value='60'\n",
       "                  max='60',\n",
       "                  style='width: 25%',\n",
       "              >\n",
       "                  60\n",
       "              </progress>\n",
       "\n",
       "    "
      ],
      "text/plain": [
       "<IPython.core.display.HTML object>"
      ]
     },
     "metadata": {},
     "output_type": "display_data"
    },
    {
     "name": "stdout",
     "output_type": "stream",
     "text": [
      "\n",
      "*** Feature extraction finished ***\n",
      "*** Feature extraction started ***\n",
      "60\n"
     ]
    },
    {
     "name": "stderr",
     "output_type": "stream",
     "text": [
      "<ipython-input-69-133d853d7271>:11: UserWarning: Using default sampling frequency set in configuration file.\n",
      "  X = tsfel.time_series_features_extractor(cfg, df)\n"
     ]
    },
    {
     "data": {
      "text/html": [
       "\n",
       "              <p>\n",
       "                  Progress: 100% Complete\n",
       "              <p/>            \n",
       "              <progress\n",
       "                  value='60'\n",
       "                  max='60',\n",
       "                  style='width: 25%',\n",
       "              >\n",
       "                  60\n",
       "              </progress>\n",
       "\n",
       "    "
      ],
      "text/plain": [
       "<IPython.core.display.HTML object>"
      ]
     },
     "metadata": {},
     "output_type": "display_data"
    },
    {
     "name": "stdout",
     "output_type": "stream",
     "text": [
      "\n",
      "*** Feature extraction finished ***\n"
     ]
    }
   ],
   "source": [
    "path = 'csv/'\n",
    "dataframeempty = pd.DataFrame()\n",
    "for csv_path in glob(path+'Residential_*.csv'):\n",
    "    df = pd.read_csv(csv_path)\n",
    "    df.dropna(inplace=True)\n",
    "    df.drop(['date'],axis=1, inplace=True)\n",
    "    # Retrieves a pre-defined feature configuration file to extract all available features\n",
    "    cfg = tsfel.get_features_by_domain()\n",
    "\n",
    "    # Extract features\n",
    "    X = tsfel.time_series_features_extractor(cfg, df)\n",
    "    X['File Name'] = csv_path\n",
    "    dataframeempty = dataframeempty.append(X)\n",
    "\n",
    "dataframeempty.to_csv('csv/tsfel_results.csv')"
   ]
  },
  {
   "cell_type": "code",
   "execution_count": 74,
   "id": "mysterious-organic",
   "metadata": {},
   "outputs": [],
   "source": [
    "X = dataframeempty.copy()\n",
    "cf=tsfel.correlated_features(X)\n",
    "X.drop(labels=cf, axis=1, inplace=True)\n",
    "#X.drop(labels='0_ECDF Slope', axis=1, inplace=True)\n",
    "\n",
    "X['File Name'] = [f.split('/')[-1].split('.csv')[0].split('_')[-1] for f in X['File Name']]"
   ]
  },
  {
   "cell_type": "code",
   "execution_count": 73,
   "id": "thrown-bottle",
   "metadata": {},
   "outputs": [
    {
     "data": {
      "text/plain": [
       "(28, 354)"
      ]
     },
     "execution_count": 73,
     "metadata": {},
     "output_type": "execute_result"
    }
   ],
   "source": [
    "X.shape"
   ]
  },
  {
   "cell_type": "code",
   "execution_count": 75,
   "id": "innocent-mapping",
   "metadata": {},
   "outputs": [],
   "source": [
    "r = X['File Name']\n",
    "D = X.drop(['File Name'], axis=1)\n",
    "pca = PCA(n_components=0.95)\n",
    "pca.fit(D)\n",
    "A = pca.fit_transform(D)"
   ]
  },
  {
   "cell_type": "code",
   "execution_count": 76,
   "id": "headed-founder",
   "metadata": {},
   "outputs": [
    {
     "data": {
      "text/plain": [
       "(28, 2)"
      ]
     },
     "execution_count": 76,
     "metadata": {},
     "output_type": "execute_result"
    }
   ],
   "source": [
    "A.shape"
   ]
  },
  {
   "cell_type": "code",
   "execution_count": 77,
   "id": "eligible-scale",
   "metadata": {},
   "outputs": [],
   "source": [
    "df_pca = pd.DataFrame(A, columns = ['F1','F2'])"
   ]
  },
  {
   "cell_type": "code",
   "execution_count": 87,
   "id": "lovely-hardware",
   "metadata": {},
   "outputs": [
    {
     "data": {
      "text/html": [
       "<div>\n",
       "<style scoped>\n",
       "    .dataframe tbody tr th:only-of-type {\n",
       "        vertical-align: middle;\n",
       "    }\n",
       "\n",
       "    .dataframe tbody tr th {\n",
       "        vertical-align: top;\n",
       "    }\n",
       "\n",
       "    .dataframe thead th {\n",
       "        text-align: right;\n",
       "    }\n",
       "</style>\n",
       "<table border=\"1\" class=\"dataframe\">\n",
       "  <thead>\n",
       "    <tr style=\"text-align: right;\">\n",
       "      <th></th>\n",
       "      <th>F1</th>\n",
       "      <th>F2</th>\n",
       "      <th>house</th>\n",
       "    </tr>\n",
       "  </thead>\n",
       "  <tbody>\n",
       "    <tr>\n",
       "      <th>0</th>\n",
       "      <td>4.280053e+08</td>\n",
       "      <td>-2.307622e+08</td>\n",
       "      <td>10</td>\n",
       "    </tr>\n",
       "    <tr>\n",
       "      <th>1</th>\n",
       "      <td>2.191264e+09</td>\n",
       "      <td>-5.853418e+08</td>\n",
       "      <td>2</td>\n",
       "    </tr>\n",
       "    <tr>\n",
       "      <th>2</th>\n",
       "      <td>2.132915e+09</td>\n",
       "      <td>-8.691130e+08</td>\n",
       "      <td>3</td>\n",
       "    </tr>\n",
       "    <tr>\n",
       "      <th>3</th>\n",
       "      <td>3.122108e+09</td>\n",
       "      <td>-8.747157e+08</td>\n",
       "      <td>11</td>\n",
       "    </tr>\n",
       "    <tr>\n",
       "      <th>4</th>\n",
       "      <td>8.535128e+08</td>\n",
       "      <td>1.734868e+08</td>\n",
       "      <td>13</td>\n",
       "    </tr>\n",
       "  </tbody>\n",
       "</table>\n",
       "</div>"
      ],
      "text/plain": [
       "             F1            F2 house\n",
       "0  4.280053e+08 -2.307622e+08    10\n",
       "1  2.191264e+09 -5.853418e+08     2\n",
       "2  2.132915e+09 -8.691130e+08     3\n",
       "3  3.122108e+09 -8.747157e+08    11\n",
       "4  8.535128e+08  1.734868e+08    13"
      ]
     },
     "execution_count": 87,
     "metadata": {},
     "output_type": "execute_result"
    }
   ],
   "source": [
    "df_pca.head()"
   ]
  },
  {
   "cell_type": "code",
   "execution_count": 98,
   "id": "dependent-conviction",
   "metadata": {},
   "outputs": [],
   "source": [
    "df_pca['house'] = pd.to_numeric(X['File Name'].values)"
   ]
  },
  {
   "cell_type": "code",
   "execution_count": 78,
   "id": "naval-metro",
   "metadata": {},
   "outputs": [
    {
     "data": {
      "image/png": "[encoded data removed]",
      "text/plain": [
       "<Figure size 432x288 with 1 Axes>"
      ]
     },
     "metadata": {},
     "output_type": "display_data"
    }
   ],
   "source": [
    "plt.figure()\n",
    "plt.scatter(A[:, 0], A[:, 1], alpha=0.6, s=1)\n",
    "for x,s in zip(A,r): \n",
    "    plt.text(x=x[0], y=x[1], s=s, fontsize=8)  \n",
    "    \n",
    "plt.show()"
   ]
  },
  {
   "cell_type": "code",
   "execution_count": 79,
   "id": "ultimate-eugene",
   "metadata": {},
   "outputs": [],
   "source": [
    "houseInfo = pd.read_csv('csv/Houses_info.csv')\n",
    "houseInfo = pd.concat([houseInfo,\n",
    "                       pd.get_dummies(houseInfo['HouseType']),\n",
    "                       pd.get_dummies(houseInfo['Facing']),\n",
    "                       pd.get_dummies(houseInfo['Region'])],\n",
    "                       axis=1)"
   ]
  },
  {
   "cell_type": "code",
   "execution_count": 89,
   "id": "literary-atlanta",
   "metadata": {},
   "outputs": [
    {
     "data": {
      "text/html": [
       "<div>\n",
       "<style scoped>\n",
       "    .dataframe tbody tr th:only-of-type {\n",
       "        vertical-align: middle;\n",
       "    }\n",
       "\n",
       "    .dataframe tbody tr th {\n",
       "        vertical-align: top;\n",
       "    }\n",
       "\n",
       "    .dataframe thead th {\n",
       "        text-align: right;\n",
       "    }\n",
       "</style>\n",
       "<table border=\"1\" class=\"dataframe\">\n",
       "  <thead>\n",
       "    <tr style=\"text-align: right;\">\n",
       "      <th></th>\n",
       "      <th>House</th>\n",
       "      <th>Cover</th>\n",
       "      <th>RUs</th>\n",
       "      <th>EVs</th>\n",
       "      <th>FAGF</th>\n",
       "      <th>HP</th>\n",
       "      <th>FPG</th>\n",
       "      <th>FPE</th>\n",
       "      <th>IFRHG</th>\n",
       "      <th>NAC</th>\n",
       "      <th>...</th>\n",
       "      <th>NE</th>\n",
       "      <th>NNW</th>\n",
       "      <th>NW</th>\n",
       "      <th>North</th>\n",
       "      <th>SE</th>\n",
       "      <th>SW</th>\n",
       "      <th>South</th>\n",
       "      <th>West</th>\n",
       "      <th>WYJ</th>\n",
       "      <th>YVR</th>\n",
       "    </tr>\n",
       "  </thead>\n",
       "  <tbody>\n",
       "    <tr>\n",
       "      <th>0</th>\n",
       "      <td>1</td>\n",
       "      <td>1.000</td>\n",
       "      <td>1</td>\n",
       "      <td>0</td>\n",
       "      <td>1</td>\n",
       "      <td>1</td>\n",
       "      <td>1</td>\n",
       "      <td>0</td>\n",
       "      <td>0.0</td>\n",
       "      <td>0.0</td>\n",
       "      <td>...</td>\n",
       "      <td>0</td>\n",
       "      <td>0</td>\n",
       "      <td>0</td>\n",
       "      <td>0</td>\n",
       "      <td>0</td>\n",
       "      <td>0</td>\n",
       "      <td>1</td>\n",
       "      <td>0</td>\n",
       "      <td>0</td>\n",
       "      <td>1</td>\n",
       "    </tr>\n",
       "    <tr>\n",
       "      <th>1</th>\n",
       "      <td>2</td>\n",
       "      <td>0.994</td>\n",
       "      <td>0</td>\n",
       "      <td>0</td>\n",
       "      <td>0</td>\n",
       "      <td>0</td>\n",
       "      <td>0</td>\n",
       "      <td>0</td>\n",
       "      <td>1.0</td>\n",
       "      <td>1.0</td>\n",
       "      <td>...</td>\n",
       "      <td>0</td>\n",
       "      <td>0</td>\n",
       "      <td>0</td>\n",
       "      <td>1</td>\n",
       "      <td>0</td>\n",
       "      <td>0</td>\n",
       "      <td>0</td>\n",
       "      <td>0</td>\n",
       "      <td>0</td>\n",
       "      <td>1</td>\n",
       "    </tr>\n",
       "    <tr>\n",
       "      <th>2</th>\n",
       "      <td>3</td>\n",
       "      <td>0.987</td>\n",
       "      <td>2</td>\n",
       "      <td>0</td>\n",
       "      <td>0</td>\n",
       "      <td>0</td>\n",
       "      <td>0</td>\n",
       "      <td>0</td>\n",
       "      <td>1.0</td>\n",
       "      <td>1.0</td>\n",
       "      <td>...</td>\n",
       "      <td>0</td>\n",
       "      <td>0</td>\n",
       "      <td>0</td>\n",
       "      <td>0</td>\n",
       "      <td>0</td>\n",
       "      <td>0</td>\n",
       "      <td>1</td>\n",
       "      <td>0</td>\n",
       "      <td>0</td>\n",
       "      <td>1</td>\n",
       "    </tr>\n",
       "    <tr>\n",
       "      <th>3</th>\n",
       "      <td>4</td>\n",
       "      <td>0.995</td>\n",
       "      <td>1</td>\n",
       "      <td>0</td>\n",
       "      <td>1</td>\n",
       "      <td>0</td>\n",
       "      <td>0</td>\n",
       "      <td>0</td>\n",
       "      <td>1.0</td>\n",
       "      <td>1.0</td>\n",
       "      <td>...</td>\n",
       "      <td>0</td>\n",
       "      <td>0</td>\n",
       "      <td>0</td>\n",
       "      <td>0</td>\n",
       "      <td>0</td>\n",
       "      <td>0</td>\n",
       "      <td>0</td>\n",
       "      <td>1</td>\n",
       "      <td>0</td>\n",
       "      <td>1</td>\n",
       "    </tr>\n",
       "    <tr>\n",
       "      <th>4</th>\n",
       "      <td>5</td>\n",
       "      <td>0.995</td>\n",
       "      <td>1</td>\n",
       "      <td>0</td>\n",
       "      <td>0</td>\n",
       "      <td>0</td>\n",
       "      <td>0</td>\n",
       "      <td>0</td>\n",
       "      <td>1.0</td>\n",
       "      <td>1.0</td>\n",
       "      <td>...</td>\n",
       "      <td>0</td>\n",
       "      <td>0</td>\n",
       "      <td>0</td>\n",
       "      <td>0</td>\n",
       "      <td>0</td>\n",
       "      <td>0</td>\n",
       "      <td>1</td>\n",
       "      <td>0</td>\n",
       "      <td>0</td>\n",
       "      <td>1</td>\n",
       "    </tr>\n",
       "  </tbody>\n",
       "</table>\n",
       "<p>5 rows × 35 columns</p>\n",
       "</div>"
      ],
      "text/plain": [
       "   House  Cover  RUs  EVs  FAGF  HP  FPG  FPE  IFRHG  NAC  ...  NE  NNW  NW  \\\n",
       "0      1  1.000    1    0     1   1    1    0    0.0  0.0  ...   0    0   0   \n",
       "1      2  0.994    0    0     0   0    0    0    1.0  1.0  ...   0    0   0   \n",
       "2      3  0.987    2    0     0   0    0    0    1.0  1.0  ...   0    0   0   \n",
       "3      4  0.995    1    0     1   0    0    0    1.0  1.0  ...   0    0   0   \n",
       "4      5  0.995    1    0     0   0    0    0    1.0  1.0  ...   0    0   0   \n",
       "\n",
       "   North  SE  SW  South  West  WYJ  YVR  \n",
       "0      0   0   0      1     0    0    1  \n",
       "1      1   0   0      0     0    0    1  \n",
       "2      0   0   0      1     0    0    1  \n",
       "3      0   0   0      0     1    0    1  \n",
       "4      0   0   0      1     0    0    1  \n",
       "\n",
       "[5 rows x 35 columns]"
      ]
     },
     "execution_count": 89,
     "metadata": {},
     "output_type": "execute_result"
    }
   ],
   "source": [
    "houseInfo.head()"
   ]
  },
  {
   "cell_type": "code",
   "execution_count": 81,
   "id": "thorough-vegetation",
   "metadata": {},
   "outputs": [],
   "source": [
    "houseInfo = houseInfo.drop(columns =['HouseType','Facing','Region','FirstReading','LastReading'])\n",
    "\n",
    "houseInfo = houseInfo.fillna(0)\n",
    "houseInfo[\"Cover\"] = houseInfo[\"Cover\"].str.replace(\",\",\".\").astype(float)"
   ]
  },
  {
   "cell_type": "code",
   "execution_count": 99,
   "id": "charitable-memory",
   "metadata": {},
   "outputs": [
    {
     "data": {
      "text/plain": [
       "F1       float64\n",
       "F2       float64\n",
       "house      int64\n",
       "dtype: object"
      ]
     },
     "execution_count": 99,
     "metadata": {},
     "output_type": "execute_result"
    }
   ],
   "source": [
    "df_pca.dtypes"
   ]
  },
  {
   "cell_type": "code",
   "execution_count": 105,
   "id": "crude-rings",
   "metadata": {},
   "outputs": [],
   "source": [
    "df_final = pd.merge(df_pca,houseInfo,left_on='house',right_on='House')"
   ]
  },
  {
   "cell_type": "code",
   "execution_count": 106,
   "id": "absent-johnston",
   "metadata": {},
   "outputs": [],
   "source": [
    "r2 = df_final['House']\n",
    "df_final.drop(['house','House'], inplace=True, axis=1)"
   ]
  },
  {
   "cell_type": "code",
   "execution_count": 107,
   "id": "underlying-timer",
   "metadata": {},
   "outputs": [
    {
     "data": {
      "text/plain": [
       "(28, 36)"
      ]
     },
     "execution_count": 107,
     "metadata": {},
     "output_type": "execute_result"
    }
   ],
   "source": [
    "df_final.shape"
   ]
  },
  {
   "cell_type": "code",
   "execution_count": 103,
   "id": "constant-diesel",
   "metadata": {},
   "outputs": [
    {
     "data": {
      "text/plain": [
       "F1           float64\n",
       "F2           float64\n",
       "Cover        float64\n",
       "RUs            int64\n",
       "EVs            int64\n",
       "FAGF           int64\n",
       "HP             int64\n",
       "FPG            int64\n",
       "FPE            int64\n",
       "IFRHG        float64\n",
       "NAC          float64\n",
       "FAC            int64\n",
       "PAC            int64\n",
       "BHE            int64\n",
       "IFRHE          int64\n",
       "WRHIR          int64\n",
       "GEOTH          int64\n",
       "apartment      uint8\n",
       "bungalow       uint8\n",
       "character      uint8\n",
       "duplex         uint8\n",
       "laneway        uint8\n",
       "modern         uint8\n",
       "special        uint8\n",
       "ENE            uint8\n",
       "East           uint8\n",
       "NE             uint8\n",
       "NNW            uint8\n",
       "NW             uint8\n",
       "North          uint8\n",
       "SE             uint8\n",
       "SW             uint8\n",
       "South          uint8\n",
       "West           uint8\n",
       "WYJ            uint8\n",
       "YVR            uint8\n",
       "dtype: object"
      ]
     },
     "execution_count": 103,
     "metadata": {},
     "output_type": "execute_result"
    }
   ],
   "source": [
    "df_final.dtypes"
   ]
  },
  {
   "cell_type": "code",
   "execution_count": 108,
   "id": "residential-onion",
   "metadata": {},
   "outputs": [
    {
     "data": {
      "text/plain": [
       "array([[ 4.28005318e+08, -2.30762212e+08,  9.95000000e-01, ...,\n",
       "         0.00000000e+00,  0.00000000e+00,  1.00000000e+00],\n",
       "       [ 2.19126438e+09, -5.85341813e+08,  9.94000000e-01, ...,\n",
       "         0.00000000e+00,  0.00000000e+00,  1.00000000e+00],\n",
       "       [ 2.13291536e+09, -8.69113042e+08,  9.87000000e-01, ...,\n",
       "         0.00000000e+00,  0.00000000e+00,  1.00000000e+00],\n",
       "       ...,\n",
       "       [-2.78470743e+09, -5.22273171e+07,  9.96000000e-01, ...,\n",
       "         0.00000000e+00,  0.00000000e+00,  1.00000000e+00],\n",
       "       [-9.27583399e+08,  3.33314435e+08,  9.98000000e-01, ...,\n",
       "         0.00000000e+00,  0.00000000e+00,  1.00000000e+00],\n",
       "       [-4.02217289e+09, -5.43274100e+07,  9.89000000e-01, ...,\n",
       "         1.00000000e+00,  0.00000000e+00,  1.00000000e+00]])"
      ]
     },
     "execution_count": 108,
     "metadata": {},
     "output_type": "execute_result"
    }
   ],
   "source": [
    "df_final.values"
   ]
  },
  {
   "cell_type": "code",
   "execution_count": 109,
   "id": "demonstrated-sacramento",
   "metadata": {},
   "outputs": [
    {
     "data": {
      "image/png": "[encoded data removed]",
      "text/plain": [
       "<Figure size 432x288 with 1 Axes>"
      ]
     },
     "metadata": {},
     "output_type": "display_data"
    }
   ],
   "source": [
    "T = df_final.values\n",
    "dendrogram = sch.dendrogram(sch.linkage(T, method='ward'))"
   ]
  },
  {
   "cell_type": "code",
   "execution_count": 110,
   "id": "likely-chicken",
   "metadata": {},
   "outputs": [],
   "source": [
    "model = AgglomerativeClustering(n_clusters=5, affinity='euclidean', linkage='ward')\n",
    "model.fit(T)\n",
    "labels = model.labels_"
   ]
  },
  {
   "cell_type": "code",
   "execution_count": 111,
   "id": "hourly-control",
   "metadata": {},
   "outputs": [
    {
     "data": {
      "text/plain": [
       "(28, 36)"
      ]
     },
     "execution_count": 111,
     "metadata": {},
     "output_type": "execute_result"
    }
   ],
   "source": [
    "T.shape"
   ]
  },
  {
   "cell_type": "code",
   "execution_count": 66,
   "id": "refined-eleven",
   "metadata": {},
   "outputs": [
    {
     "data": {
      "image/png": "[encoded data removed]",
      "text/plain": [
       "<Figure size 432x288 with 1 Axes>"
      ]
     },
     "metadata": {},
     "output_type": "display_data"
    }
   ],
   "source": [
    "plt.scatter(T[labels==0, 0], T[labels==0, 1], s=50, marker='o', color='red')\n",
    "plt.scatter(T[labels==1, 0], T[labels==1, 1], s=50, marker='o', color='blue')\n",
    "plt.scatter(T[labels==2, 0], T[labels==2, 1], s=50, marker='o', color='green')\n",
    "plt.scatter(T[labels==3, 0], T[labels==3, 1], s=50, marker='o', color='purple')\n",
    "plt.scatter(T[labels==4, 0], T[labels==4, 1], s=50, marker='o', color='yellow')\n",
    "plt.show()"
   ]
  },
  {
   "cell_type": "code",
   "execution_count": 67,
   "id": "bridal-magazine",
   "metadata": {},
   "outputs": [
    {
     "data": {
      "image/png": "[encoded data removed]",
      "text/plain": [
       "<Figure size 432x288 with 1 Axes>"
      ]
     },
     "metadata": {},
     "output_type": "display_data"
    }
   ],
   "source": [
    "n_clusters_ = len(np.unique(model.labels_[model.labels_ != -1]))\n",
    "colors = ['go', 'ro', 'bo', 'yo', 'co']\n",
    "plt.figure()\n",
    "for klass, color in zip(range(0, 4), colors):\n",
    "    Xk = T[model.labels_ == klass]\n",
    "    plt.plot(Xk[:, 0], Xk[:, 1], color, alpha=0.99)\n",
    "   \n",
    "for x,s in zip(T,r): \n",
    "    plt.scatter(x=x[0], y=x[1], s=0,)\n",
    "    plt.text(x=x[0], y=x[1], s=s, fontsize=8)  \n",
    "    \n",
    "plt.plot(T[model.labels_ == -1, 0], T[model.labels_ == -1, 1], 'ko',alpha=0.2)\n",
    "plt.title('AH: %d' % n_clusters_)\n",
    "plt.show()"
   ]
  },
  {
   "cell_type": "code",
   "execution_count": null,
   "id": "animal-interstate",
   "metadata": {},
   "outputs": [],
   "source": []
  }
 ],
 "metadata": {
  "kernelspec": {
   "display_name": "Python 3",
   "language": "python",
   "name": "python3"
  },
  "language_info": {
   "codemirror_mode": {
    "name": "ipython",
    "version": 3
   },
   "file_extension": ".py",
   "mimetype": "text/x-python",
   "name": "python",
   "nbconvert_exporter": "python",
   "pygments_lexer": "ipython3",
   "version": "3.9.2"
  }
 },
 "nbformat": 4,
 "nbformat_minor": 5
}
