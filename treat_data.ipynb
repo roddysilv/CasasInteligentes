{
 "cells": [
  {
   "cell_type": "code",
   "execution_count": 27,
   "id": "usual-object",
   "metadata": {},
   "outputs": [],
   "source": [
    "# -*- coding: utf-8 -*-\n",
    "\"\"\"\n",
    "Created on Tue Apr  6 21:03:19 2021\n",
    "\n",
    "@author: Rodrigo\n",
    "\"\"\"\n",
    "# =============================================================================\n",
    "# Transforma dados faltantes em energy_kWh para 0 e troca todos os valores 0\n",
    "# para a média da hora. \n",
    "# =============================================================================\n",
    "\n",
    "import pandas as pd\n",
    "\n",
    "def media(aux):\n",
    "    for i in range(aux.shape[0]):\n",
    "        if(aux.iloc[i,2] == 0):\n",
    "           if(i + 24 < aux.shape[0] and i - 24 >= 0):\n",
    "               aux.iloc[i, 2] = round((aux.iloc[i + 24, 2] + aux.iloc[i - 24, 2]) / 2,3)\n",
    "           else:\n",
    "               aux.iloc[i,2] = round((aux.iloc[i - 48, 2] + aux.iloc[i - 24, 2]) / 2,3)\n",
    "\n",
    "for i in range(1,29):   \n",
    "    aux = pd.read_csv('csv/Residential_' + str(i) + '.csv')\n",
    "    aux = aux.fillna(0)\n",
    "    media(aux)\n",
    "    # print(aux.describe())\n",
    "    aux.to_csv('treated_data/Residential_' + str(i) + '.csv',index=False)"
   ]
  }
 ],
 "metadata": {
  "kernelspec": {
   "display_name": "Python 3",
   "language": "python",
   "name": "python3"
  },
  "language_info": {
   "codemirror_mode": {
    "name": "ipython",
    "version": 3
   },
   "file_extension": ".py",
   "mimetype": "text/x-python",
   "name": "python",
   "nbconvert_exporter": "python",
   "pygments_lexer": "ipython3",
   "version": "3.9.2"
  }
 },
 "nbformat": 4,
 "nbformat_minor": 5
}
