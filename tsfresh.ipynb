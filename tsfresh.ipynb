{
 "cells": [
  {
   "cell_type": "code",
   "execution_count": 2,
   "id": "finite-massage",
   "metadata": {},
   "outputs": [],
   "source": [
    "import pandas as pd\n",
    "import numpy as np\n",
    "import tsfresh\n",
    "import matplotlib.pyplot as plt\n",
    "import seaborn as sns; sns.set()\n",
    "from glob import glob\n",
    "from sklearn.decomposition import PCA\n",
    "from tsfresh import extract_features\n",
    "import datetime\n",
    "import matplotlib.pyplot as plt"
   ]
  },
  {
   "cell_type": "code",
   "execution_count": 3,
   "id": "equivalent-traveler",
   "metadata": {},
   "outputs": [
    {
     "name": "stderr",
     "output_type": "stream",
     "text": [
      "<ipython-input-3-96abfdaba1ff>:9: FutureWarning: The pandas.datetime class is deprecated and will be removed from pandas in a future version. Import from datetime module instead.\n",
      "  df['horario'] = df.apply(lambda r : pd.datetime.combine(r['dates'],r['hours']),1)\n",
      "Feature Extraction: 100%|██████████| 10/10 [07:24<00:00, 44.44s/it]\n"
     ]
    }
   ],
   "source": [
    "path = 'csv/'\n",
    "dataframeempty = pd.DataFrame()\n",
    "for csv_path in glob(path+'Residential_*.csv'):\n",
    "    df = pd.read_csv(csv_path)\n",
    "    df.dropna(inplace=True)\n",
    "    df['column_id'] = df.index+1\n",
    "    df['hours'] = df['hour'].apply(lambda x: datetime.time(x, 0, 0))\n",
    "    df['dates'] = df['date'].apply(lambda x: datetime.datetime.strptime(x, '%Y-%m-%d'))\n",
    "    df['horario'] = df.apply(lambda r : pd.datetime.combine(r['dates'],r['hours']),1)\n",
    "    df = df[['column_id','horario','energy_kWh']]\n",
    "    extracted_features = extract_features(df, column_id=\"column_id\", column_sort=\"horario\")\n",
    "    \n",
    "    dataframeempty = dataframeempty.append(extracted_features)\n",
    "    break\n",
    "    \n",
    "dataframeempty.to_csv(csv_path.replace('.csv','_tsfresh.csv'), index=False)"
   ]
  },
  {
   "cell_type": "code",
   "execution_count": 11,
   "id": "computational-occasions",
   "metadata": {},
   "outputs": [
    {
     "data": {
      "text/plain": [
       "(26180, 787)"
      ]
     },
     "execution_count": 11,
     "metadata": {},
     "output_type": "execute_result"
    }
   ],
   "source": [
    "dataframeempty.shape"
   ]
  },
  {
   "cell_type": "code",
   "execution_count": 12,
   "id": "favorite-purple",
   "metadata": {},
   "outputs": [
    {
     "data": {
      "text/plain": [
       "(26180, 3)"
      ]
     },
     "execution_count": 12,
     "metadata": {},
     "output_type": "execute_result"
    }
   ],
   "source": [
    "df.shape"
   ]
  },
  {
   "cell_type": "code",
   "execution_count": 13,
   "id": "located-outline",
   "metadata": {},
   "outputs": [
    {
     "data": {
      "text/plain": [
       "'csv/Residential_10.csv'"
      ]
     },
     "execution_count": 13,
     "metadata": {},
     "output_type": "execute_result"
    }
   ],
   "source": [
    "csv_path"
   ]
  },
  {
   "cell_type": "code",
   "execution_count": null,
   "id": "fossil-football",
   "metadata": {},
   "outputs": [],
   "source": [
    "Pessoal, peguei a residencia número 10 que tinha 26180 linhas e 3 colunas (Data, hora e consumo de energia) e apliquei o TSFRESG"
   ]
  }
 ],
 "metadata": {
  "kernelspec": {
   "display_name": "Python 3",
   "language": "python",
   "name": "python3"
  },
  "language_info": {
   "codemirror_mode": {
    "name": "ipython",
    "version": 3
   },
   "file_extension": ".py",
   "mimetype": "text/x-python",
   "name": "python",
   "nbconvert_exporter": "python",
   "pygments_lexer": "ipython3",
   "version": "3.9.2"
  }
 },
 "nbformat": 4,
 "nbformat_minor": 5
}
